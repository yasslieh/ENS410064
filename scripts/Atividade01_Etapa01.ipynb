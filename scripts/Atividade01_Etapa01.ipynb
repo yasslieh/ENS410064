{
 "cells": [
  {
   "cell_type": "markdown",
   "id": "e9b4b7c1-cd31-4bf8-bf6d-53e2545b5824",
   "metadata": {},
   "source": [
    "# ETAPA 1"
   ]
  },
  {
   "cell_type": "markdown",
   "id": "d9c9c2e1-f7c3-44c3-b047-1fee4d1ca0ee",
   "metadata": {},
   "source": [
    "## Dados Numéricos"
   ]
  },
  {
   "cell_type": "code",
   "execution_count": 94,
   "id": "4694e27a-90f0-4a1e-9412-8f29ebff316e",
   "metadata": {},
   "outputs": [
    {
     "name": "stdout",
     "output_type": "stream",
     "text": [
      "Valor de a = 1\n"
     ]
    },
    {
     "data": {
      "text/plain": [
       "int"
      ]
     },
     "execution_count": 94,
     "metadata": {},
     "output_type": "execute_result"
    }
   ],
   "source": [
    "# Variável Inteira\n",
    "a = 1\n",
    "print ('Valor de a = '+str(a))\n",
    "type (a)\n",
    "# a recebe valor de 1 e é uma variável inteira"
   ]
  },
  {
   "cell_type": "code",
   "execution_count": 95,
   "id": "8a80dbe7-7d18-4c38-b5d6-b92902759652",
   "metadata": {},
   "outputs": [
    {
     "name": "stdout",
     "output_type": "stream",
     "text": [
      "1.0\n"
     ]
    },
    {
     "data": {
      "text/plain": [
       "float"
      ]
     },
     "execution_count": 95,
     "metadata": {},
     "output_type": "execute_result"
    }
   ],
   "source": [
    "# Variável dupla precisão\n",
    "b = 1.0\n",
    "print(b)\n",
    "type(b)\n",
    "# b recebe valor de 1.0 e é uma variavel do tipo float (maior precisão)"
   ]
  },
  {
   "cell_type": "code",
   "execution_count": 96,
   "id": "e271fbd7-e421-4575-b23f-9d5383159c4c",
   "metadata": {},
   "outputs": [
    {
     "name": "stdout",
     "output_type": "stream",
     "text": [
      "1\n"
     ]
    },
    {
     "data": {
      "text/plain": [
       "int"
      ]
     },
     "execution_count": 96,
     "metadata": {},
     "output_type": "execute_result"
    }
   ],
   "source": [
    "# Converter float para int\n",
    "c = int(b)\n",
    "print(c)\n",
    "type(c)\n",
    "#usando comando int para transformar variável float em int"
   ]
  },
  {
   "cell_type": "code",
   "execution_count": 97,
   "id": "2d2c4795-158f-4d3c-9cf3-cbd384643fd1",
   "metadata": {},
   "outputs": [
    {
     "name": "stdout",
     "output_type": "stream",
     "text": [
      "nan\n"
     ]
    },
    {
     "data": {
      "text/plain": [
       "float"
      ]
     },
     "execution_count": 97,
     "metadata": {},
     "output_type": "execute_result"
    }
   ],
   "source": [
    "# Declarando nan\n",
    "import numpy as np\n",
    "d = np.nan\n",
    "print(d)\n",
    "type(d)\n",
    "#importando a biblioteca de arrays numpy"
   ]
  },
  {
   "cell_type": "code",
   "execution_count": 98,
   "id": "2b014ee9-f55c-493f-abf7-78efa0a11493",
   "metadata": {},
   "outputs": [
    {
     "name": "stdout",
     "output_type": "stream",
     "text": [
      "nan\n",
      "nan\n",
      "1.0\n"
     ]
    }
   ],
   "source": [
    "#Operação com NaN\n",
    "e = d*1\n",
    "print(e)\n",
    "e=d+1\n",
    "print(e)\n",
    "e=np.nansum([d,1])\n",
    "print(e)\n",
    "#primeiro é feita uma copia da matriz d\n",
    "#aumentando 1 em cada valor da matriz d\n",
    "#também soma 1 a cada elemento só que desconsiderando os valores nan da matriz"
   ]
  },
  {
   "cell_type": "markdown",
   "id": "6db97741-1cf8-44ea-bdb9-8c5d17898c3d",
   "metadata": {},
   "source": [
    "## Dados de texto"
   ]
  },
  {
   "cell_type": "code",
   "execution_count": 99,
   "id": "e1a07c9d-bc1b-4ed8-a066-1cf71203cb38",
   "metadata": {},
   "outputs": [
    {
     "name": "stdout",
     "output_type": "stream",
     "text": [
      "Fábio\n",
      "Gabriel\n",
      "FábioGabriel\n",
      "Fábio Gabriel\n"
     ]
    }
   ],
   "source": [
    "# Declaração de variável texto\n",
    "f = 'Fábio'\n",
    "g = \"Gabriel\"\n",
    "print(f)\n",
    "print(g)\n",
    "print(f+g)\n",
    "print(f+' '+g)\n",
    "# variáveis do tipo texto ficam entre aspas simples"
   ]
  },
  {
   "cell_type": "markdown",
   "id": "7143e863-9d9f-4fa6-8bc6-5c21160a4330",
   "metadata": {},
   "source": [
    "## Dados tipo bool - lógica"
   ]
  },
  {
   "cell_type": "code",
   "execution_count": 100,
   "id": "6bfc9d8a-a1a6-4ef3-99f6-9b21c8ff981e",
   "metadata": {},
   "outputs": [
    {
     "data": {
      "text/plain": [
       "True"
      ]
     },
     "execution_count": 100,
     "metadata": {},
     "output_type": "execute_result"
    }
   ],
   "source": [
    "a==1\n",
    "# sinal de igual é representado por =="
   ]
  },
  {
   "cell_type": "code",
   "execution_count": 101,
   "id": "a7c5dffe-edd7-47a2-8d97-51f84e7962cd",
   "metadata": {},
   "outputs": [
    {
     "name": "stdout",
     "output_type": "stream",
     "text": [
      "True\n"
     ]
    },
    {
     "data": {
      "text/plain": [
       "bool"
      ]
     },
     "execution_count": 101,
     "metadata": {},
     "output_type": "execute_result"
    }
   ],
   "source": [
    "h = (a==1)\n",
    "print(h)\n",
    "type(h)\n",
    "# 1 é true"
   ]
  },
  {
   "cell_type": "code",
   "execution_count": 102,
   "id": "c9094cad-1afd-4738-8f38-f23053ba3643",
   "metadata": {},
   "outputs": [
    {
     "name": "stdout",
     "output_type": "stream",
     "text": [
      "False\n"
     ]
    },
    {
     "data": {
      "text/plain": [
       "bool"
      ]
     },
     "execution_count": 102,
     "metadata": {},
     "output_type": "execute_result"
    }
   ],
   "source": [
    "h = (a==2)\n",
    "print(h)\n",
    "type(h)\n",
    "# 0 é false"
   ]
  },
  {
   "cell_type": "code",
   "execution_count": 103,
   "id": "65067739-aabb-4136-a935-f12cdc3c5cdb",
   "metadata": {},
   "outputs": [
    {
     "data": {
      "text/plain": [
       "bool"
      ]
     },
     "execution_count": 103,
     "metadata": {},
     "output_type": "execute_result"
    }
   ],
   "source": [
    "i = True\n",
    "type(i)\n",
    "# true e false são boleanos"
   ]
  },
  {
   "cell_type": "code",
   "execution_count": 104,
   "id": "50a0974c-defd-433a-b7fa-85b2de72962d",
   "metadata": {},
   "outputs": [
    {
     "data": {
      "text/plain": [
       "str"
      ]
     },
     "execution_count": 104,
     "metadata": {},
     "output_type": "execute_result"
    }
   ],
   "source": [
    "ii = 'True'\n",
    "type(ii)\n",
    "# quando está entre '' será string de texto (mesmo escrito true ou false)"
   ]
  },
  {
   "cell_type": "markdown",
   "id": "35a8cef9-dbab-489b-b0fa-ddf46e429c8b",
   "metadata": {},
   "source": [
    "## Operação de comparação"
   ]
  },
  {
   "cell_type": "code",
   "execution_count": 105,
   "id": "e6fe64a3-052f-471a-ae89-ab42d395b6a2",
   "metadata": {},
   "outputs": [
    {
     "data": {
      "text/plain": [
       "True"
      ]
     },
     "execution_count": 105,
     "metadata": {},
     "output_type": "execute_result"
    }
   ],
   "source": [
    "# Operação ==\n",
    "a==b\n",
    "#igualdade"
   ]
  },
  {
   "cell_type": "code",
   "execution_count": 106,
   "id": "b36fc0b7-53e8-4401-a802-4249c7dd7d1b",
   "metadata": {},
   "outputs": [
    {
     "data": {
      "text/plain": [
       "False"
      ]
     },
     "execution_count": 106,
     "metadata": {},
     "output_type": "execute_result"
    }
   ],
   "source": [
    "# Operação ><\n",
    "a>b\n",
    "#maior ou menor"
   ]
  },
  {
   "cell_type": "code",
   "execution_count": 107,
   "id": "9f5abc2b-8e07-4f6d-b899-7a1f21c428b6",
   "metadata": {},
   "outputs": [
    {
     "data": {
      "text/plain": [
       "False"
      ]
     },
     "execution_count": 107,
     "metadata": {},
     "output_type": "execute_result"
    }
   ],
   "source": [
    "# Operação !=\n",
    "a!=b\n",
    "#diferença"
   ]
  },
  {
   "cell_type": "code",
   "execution_count": 108,
   "id": "90843173-b55c-4de2-93be-cca3b6ee2bab",
   "metadata": {},
   "outputs": [
    {
     "data": {
      "text/plain": [
       "True"
      ]
     },
     "execution_count": 108,
     "metadata": {},
     "output_type": "execute_result"
    }
   ],
   "source": [
    "# Operação >= ou <=\n",
    "a>=b\n",
    "#maior ou igual a / menor ou igual a"
   ]
  },
  {
   "cell_type": "markdown",
   "id": "bba7ca85-d15d-4ba5-adc8-cc6c7de3c57b",
   "metadata": {},
   "source": [
    "## Operações matemáticas"
   ]
  },
  {
   "cell_type": "code",
   "execution_count": 109,
   "id": "fe866591-4971-420e-ba69-6aea339b43ff",
   "metadata": {},
   "outputs": [
    {
     "data": {
      "text/plain": [
       "2.0"
      ]
     },
     "execution_count": 109,
     "metadata": {},
     "output_type": "execute_result"
    }
   ],
   "source": [
    "# Soma \n",
    "a+b\n",
    "#soma é +"
   ]
  },
  {
   "cell_type": "code",
   "execution_count": 110,
   "id": "df039cb9-68e6-4631-a23a-b73a0308f5a8",
   "metadata": {},
   "outputs": [
    {
     "name": "stdout",
     "output_type": "stream",
     "text": [
      "2.0\n"
     ]
    }
   ],
   "source": [
    "# Soma e atribui valor\n",
    "ab = a+b\n",
    "print(ab)\n",
    "# da pra atribuir variáveis a partir de operações em outras existentes"
   ]
  },
  {
   "cell_type": "code",
   "execution_count": 111,
   "id": "17210d8d-6675-430a-a669-b408c3ef5fed",
   "metadata": {},
   "outputs": [
    {
     "name": "stdout",
     "output_type": "stream",
     "text": [
      "Não use l como nome de variável\n",
      "1.0\n"
     ]
    }
   ],
   "source": [
    "# Multiplicação\n",
    "l = a*b # Não use l como variável\n",
    "print(\"Não use l como nome de variável\")\n",
    "j = a*b\n",
    "print(j)\n",
    "# multiplicação por *"
   ]
  },
  {
   "cell_type": "code",
   "execution_count": 112,
   "id": "2b003a03-8ff8-4868-ac6a-64a0e53f4335",
   "metadata": {},
   "outputs": [
    {
     "data": {
      "text/plain": [
       "1.0"
      ]
     },
     "execution_count": 112,
     "metadata": {},
     "output_type": "execute_result"
    }
   ],
   "source": [
    "# Divisão\n",
    "a/b\n",
    "#divisão por /"
   ]
  },
  {
   "cell_type": "code",
   "execution_count": 113,
   "id": "64cd5264-2330-4951-b7ce-6b8b299cc36e",
   "metadata": {},
   "outputs": [
    {
     "data": {
      "text/plain": [
       "25"
      ]
     },
     "execution_count": 113,
     "metadata": {},
     "output_type": "execute_result"
    }
   ],
   "source": [
    "# Potencia\n",
    "5**2\n",
    "#potência por ** ao invés de ^"
   ]
  },
  {
   "cell_type": "code",
   "execution_count": 114,
   "id": "68660947-3a3f-4c5c-952e-aab5b5a692aa",
   "metadata": {},
   "outputs": [
    {
     "data": {
      "text/plain": [
       "22026.465794806718"
      ]
     },
     "execution_count": 114,
     "metadata": {},
     "output_type": "execute_result"
    }
   ],
   "source": [
    "# Operações matemáticas com a bibliotéca math\n",
    "import math\n",
    "\n",
    "math.exp(10)\n",
    "# quando estamos usando bibliotecas da pra usar outras operações como exponencial"
   ]
  },
  {
   "cell_type": "code",
   "execution_count": 115,
   "id": "66973c8b-8d49-441f-91f4-0013fe2f1bfb",
   "metadata": {},
   "outputs": [
    {
     "data": {
      "text/plain": [
       "1.0"
      ]
     },
     "execution_count": 115,
     "metadata": {},
     "output_type": "execute_result"
    }
   ],
   "source": [
    "math.exp(0)\n",
    "#exponencial de 0"
   ]
  },
  {
   "cell_type": "code",
   "execution_count": 116,
   "id": "ddb6c93e-1661-4f5a-87ff-ad49c7c0ae31",
   "metadata": {},
   "outputs": [
    {
     "data": {
      "text/plain": [
       "2.718281828459045"
      ]
     },
     "execution_count": 116,
     "metadata": {},
     "output_type": "execute_result"
    }
   ],
   "source": [
    "math.exp(a)\n",
    "#da pra usar operação de biblioteca nas variáveis"
   ]
  },
  {
   "cell_type": "code",
   "execution_count": 117,
   "id": "d1ed4a16-18a6-4eeb-a1bb-ddd2c0eda18c",
   "metadata": {},
   "outputs": [
    {
     "data": {
      "text/plain": [
       "4.5399929762484854e-05"
      ]
     },
     "execution_count": 117,
     "metadata": {},
     "output_type": "execute_result"
    }
   ],
   "source": [
    "math.exp(-10)\n",
    "#dá pra usar numeros negativos apenas com - na frente"
   ]
  },
  {
   "cell_type": "code",
   "execution_count": 118,
   "id": "1f711bf8-3dad-4491-9dd5-20d8e6dcbc7c",
   "metadata": {},
   "outputs": [
    {
     "data": {
      "text/plain": [
       "0.0"
      ]
     },
     "execution_count": 118,
     "metadata": {},
     "output_type": "execute_result"
    }
   ],
   "source": [
    "import math as mt\n",
    "mt.log(c)\n",
    "#diminuindo nome da biblioteca pra usar mais rapido"
   ]
  },
  {
   "cell_type": "code",
   "execution_count": 119,
   "id": "e9dde160-83a2-46e4-ac97-086011aafb0d",
   "metadata": {},
   "outputs": [
    {
     "data": {
      "text/plain": [
       "2.0"
      ]
     },
     "execution_count": 119,
     "metadata": {},
     "output_type": "execute_result"
    }
   ],
   "source": [
    "mt.log10(100)\n",
    "#alem de exponencial, a biblioteca math tem log10"
   ]
  },
  {
   "cell_type": "markdown",
   "id": "8c288b56-8672-4d99-88f6-ed95281dee7d",
   "metadata": {},
   "source": [
    "## Listas"
   ]
  },
  {
   "cell_type": "code",
   "execution_count": 120,
   "id": "119448e3-0eb2-44ca-a61b-659f121a950a",
   "metadata": {},
   "outputs": [
    {
     "name": "stdout",
     "output_type": "stream",
     "text": [
      "[1, 2, 3]\n"
     ]
    }
   ],
   "source": [
    "myFirstList = [1,2,3]\n",
    "print(myFirstList)\n",
    "#criando listas que guardam valores ordenados"
   ]
  },
  {
   "cell_type": "code",
   "execution_count": 121,
   "id": "87a8600b-e1b6-4283-8614-2a7c88298641",
   "metadata": {},
   "outputs": [
    {
     "name": "stdout",
     "output_type": "stream",
     "text": [
      "1\n",
      "3\n"
     ]
    }
   ],
   "source": [
    "# Acessando valores da lista pelo index\n",
    "print(myFirstList[0])\n",
    "print(myFirstList[2])\n",
    "#como acessar cada valor pelo index"
   ]
  },
  {
   "cell_type": "code",
   "execution_count": 122,
   "id": "aff2c5c8-9271-4ebe-beb5-8234dceb55a6",
   "metadata": {},
   "outputs": [
    {
     "data": {
      "text/plain": [
       "False"
      ]
     },
     "execution_count": 122,
     "metadata": {},
     "output_type": "execute_result"
    }
   ],
   "source": [
    "myFirstList==a\n",
    "#comparação da lista com variável"
   ]
  },
  {
   "cell_type": "code",
   "execution_count": 123,
   "id": "6ea01719-0ddf-4fa7-8860-fb1a717d1b3c",
   "metadata": {},
   "outputs": [
    {
     "data": {
      "text/plain": [
       "True"
      ]
     },
     "execution_count": 123,
     "metadata": {},
     "output_type": "execute_result"
    }
   ],
   "source": [
    "myFirstList[0]==a\n",
    "#comparação de UM dos valores da lista com variável"
   ]
  },
  {
   "cell_type": "code",
   "execution_count": 124,
   "id": "36d0628d-8d6f-4163-83ac-ccdba24b66ba",
   "metadata": {},
   "outputs": [
    {
     "name": "stdout",
     "output_type": "stream",
     "text": [
      "[1, 1, 'c']\n"
     ]
    }
   ],
   "source": [
    "mySecList = [1,a,'c']\n",
    "print(mySecList)\n",
    "# dá pra usar variáveis e str nas listas"
   ]
  },
  {
   "cell_type": "code",
   "execution_count": 125,
   "id": "feaca8e0-c54e-4f7d-9092-a6b1a862e5cd",
   "metadata": {},
   "outputs": [
    {
     "data": {
      "text/plain": [
       "list"
      ]
     },
     "execution_count": 125,
     "metadata": {},
     "output_type": "execute_result"
    }
   ],
   "source": [
    "type(mySecList)\n",
    "#tipo da lista"
   ]
  },
  {
   "cell_type": "code",
   "execution_count": 126,
   "id": "7cc7450a-9749-4a54-8988-78214d0bf8e3",
   "metadata": {},
   "outputs": [
    {
     "data": {
      "text/plain": [
       "str"
      ]
     },
     "execution_count": 126,
     "metadata": {},
     "output_type": "execute_result"
    }
   ],
   "source": [
    "type(mySecList[2])\n",
    "#tipo do valor dentro da lista"
   ]
  },
  {
   "cell_type": "code",
   "execution_count": 127,
   "id": "c83a71c3-7156-49e8-9671-89855b0ff015",
   "metadata": {},
   "outputs": [
    {
     "data": {
      "text/plain": [
       "int"
      ]
     },
     "execution_count": 127,
     "metadata": {},
     "output_type": "execute_result"
    }
   ],
   "source": [
    "type(mySecList[1])\n",
    "#tipo do valor dentro da lista\n",
    "#lembrar de acessar pelo index usando []"
   ]
  },
  {
   "cell_type": "markdown",
   "id": "32d3e409-ae72-4202-bcde-85e3f08db331",
   "metadata": {},
   "source": [
    "## Caminhos = path"
   ]
  },
  {
   "cell_type": "code",
   "execution_count": 128,
   "id": "6c03383f-4e74-4c21-b3bb-387d70674ba2",
   "metadata": {},
   "outputs": [
    {
     "name": "stdout",
     "output_type": "stream",
     "text": [
      "C:\\UFSC\\ENS410064\n"
     ]
    }
   ],
   "source": [
    "path = r\"C:\\UFSC\\ENS410064\"\n",
    "print(path)\n",
    "#a diferença do uso do \"r\" aqui e na variável de baixo faz diferença porque faz com que a barra invertida seguida de caracteres seja interpretada \\ \n",
    "# string ao invés de caracteres de escape"
   ]
  },
  {
   "cell_type": "code",
   "execution_count": 129,
   "id": "0422b617-e5d7-45d7-99f3-2863b2b905b4",
   "metadata": {},
   "outputs": [
    {
     "name": "stdout",
     "output_type": "stream",
     "text": [
      "C:/UFSC/ENS410064\n"
     ]
    }
   ],
   "source": [
    "path = \"C:/UFSC/ENS410064\"\n",
    "print(path)"
   ]
  },
  {
   "cell_type": "code",
   "execution_count": 130,
   "id": "d43f1902-6378-4dd9-b15a-74440136cd75",
   "metadata": {},
   "outputs": [
    {
     "data": {
      "text/plain": [
       "['.git', '.gitignore', 'README.md', 'scripts', 'venv']"
      ]
     },
     "execution_count": 130,
     "metadata": {},
     "output_type": "execute_result"
    }
   ],
   "source": [
    "import os\n",
    "# Listar arquivos na pasta\n",
    "os.listdir(path)\n",
    "#listando os arquivos e pastas que vem no diretorio"
   ]
  },
  {
   "cell_type": "code",
   "execution_count": 131,
   "id": "6bd8451e-d3c5-4c48-ba79-a796a91ecb66",
   "metadata": {},
   "outputs": [
    {
     "data": {
      "text/plain": [
       "'.git'"
      ]
     },
     "execution_count": 131,
     "metadata": {},
     "output_type": "execute_result"
    }
   ],
   "source": [
    "# Selecionar primeiro arquivo listado\n",
    "os.listdir(path)[0]\n",
    "#usando o index para chegar nos arquivos da pasta"
   ]
  },
  {
   "cell_type": "code",
   "execution_count": 132,
   "id": "7afd0ceb-2e1e-4bdb-b687-749edb0ab862",
   "metadata": {},
   "outputs": [
    {
     "data": {
      "text/plain": [
       "'C:/UFSC/ENS410064/.git'"
      ]
     },
     "execution_count": 132,
     "metadata": {},
     "output_type": "execute_result"
    }
   ],
   "source": [
    "# Concatenando caminhos\n",
    "path+\"/\"+os.listdir(path)[0]\n",
    "#\"criando\" diretorio"
   ]
  },
  {
   "cell_type": "code",
   "execution_count": 133,
   "id": "78bc0c5f-75f5-4f6e-a708-6b8b3799a546",
   "metadata": {},
   "outputs": [
    {
     "data": {
      "text/plain": [
       "['COMMIT_EDITMSG',\n",
       " 'config',\n",
       " 'description',\n",
       " 'FETCH_HEAD',\n",
       " 'HEAD',\n",
       " 'hooks',\n",
       " 'index',\n",
       " 'info',\n",
       " 'logs',\n",
       " 'objects',\n",
       " 'packed-refs',\n",
       " 'refs']"
      ]
     },
     "execution_count": 133,
     "metadata": {},
     "output_type": "execute_result"
    }
   ],
   "source": [
    "# Listando caminho concatenado\n",
    "os.listdir(path+\"/\"+os.listdir(path)[0])\n",
    "# vendo arquivos da pasta \"nova\""
   ]
  },
  {
   "cell_type": "code",
   "execution_count": 134,
   "id": "13f7b64d-d133-400f-ae92-34d7932ccb76",
   "metadata": {},
   "outputs": [
    {
     "data": {
      "text/plain": [
       "'C:\\\\UFSC'"
      ]
     },
     "execution_count": 134,
     "metadata": {},
     "output_type": "execute_result"
    }
   ],
   "source": [
    "# Diretório que estou trababalhando\n",
    "os.getcwd()\n",
    "#serve pra verificar em que pasta estou trabalhando\n",
    "#cwd = currently working directory"
   ]
  },
  {
   "cell_type": "code",
   "execution_count": 135,
   "id": "aaab0bb8-3ed8-4500-a71f-29f0ba9964af",
   "metadata": {},
   "outputs": [],
   "source": [
    "# Mudo de diretório para o caminho \n",
    "os.chdir(r'C:\\UFSC')\n",
    "#chdir = change directory"
   ]
  },
  {
   "cell_type": "code",
   "execution_count": 136,
   "id": "a6280551-6c81-462e-ab66-1c1ac808a075",
   "metadata": {},
   "outputs": [
    {
     "data": {
      "text/plain": [
       "'C:\\\\UFSC'"
      ]
     },
     "execution_count": 136,
     "metadata": {},
     "output_type": "execute_result"
    }
   ],
   "source": [
    "os.getcwd()\n",
    "#mostrando que mudou o diretório"
   ]
  },
  {
   "cell_type": "code",
   "execution_count": 137,
   "id": "b8c7f822-c65f-4c8f-8b25-673b90a84635",
   "metadata": {},
   "outputs": [
    {
     "name": "stdout",
     "output_type": "stream",
     "text": [
      "diretório já existe\n"
     ]
    }
   ],
   "source": [
    "# Criando diretório\n",
    "new_path = os.getcwd()+'/test'\n",
    "\n",
    "if os.path.isdir(new_path):\n",
    "    print('diretório já existe')\n",
    "else:\n",
    "    print('Criando diretório '+new_path)\n",
    "    os.mkdir(new_path)\n",
    "#primeiro verificando se o novo diretorio existe com os.path.isdir\n",
    "#depois criando diretorio com os.mkdir"
   ]
  },
  {
   "cell_type": "code",
   "execution_count": 138,
   "id": "063a3c90-e56f-45b4-aff1-36e2bf0a4353",
   "metadata": {},
   "outputs": [
    {
     "name": "stdout",
     "output_type": "stream",
     "text": [
      "diretório já existe\n"
     ]
    }
   ],
   "source": [
    "# Criando diretório\n",
    "new_path = os.getcwd()+'/test2'\n",
    "\n",
    "if os.path.isdir(new_path):\n",
    "    print('diretório já existe')\n",
    "    # Criando um arquivo de texto\n",
    "    with open(new_path+\"/copy.txt\", \"w\") as file:\n",
    "        file.write(\"Your text goes here\")\n",
    "else:\n",
    "    print('Criando diretório '+new_path)\n",
    "    os.mkdir(new_path)\n",
    "    with open(new_path+\"/copy.txt\", \"w\") as file:\n",
    "        file.write(\"Your text goes here\")\n",
    "#criando pasta com arquivo de texto e escrevendo dentro do txt"
   ]
  },
  {
   "cell_type": "markdown",
   "id": "eacac493-47f2-4dc3-9bad-4cd367531508",
   "metadata": {},
   "source": [
    "## Numpy arrays e Pandas DataFrames"
   ]
  },
  {
   "cell_type": "code",
   "execution_count": 139,
   "id": "66dcacba-3c01-4bfa-9dba-703a325009c6",
   "metadata": {},
   "outputs": [
    {
     "data": {
      "text/plain": [
       "numpy.ndarray"
      ]
     },
     "execution_count": 139,
     "metadata": {},
     "output_type": "execute_result"
    }
   ],
   "source": [
    "import numpy as np\n",
    "# Criando uma variável numpy\n",
    "n = np.array(0)\n",
    "type(n)\n",
    "#n é uma variável array com um unico valor, 0"
   ]
  },
  {
   "cell_type": "code",
   "execution_count": 140,
   "id": "41a1b594-41b0-47ee-8d70-f495b592e8f5",
   "metadata": {},
   "outputs": [
    {
     "name": "stdout",
     "output_type": "stream",
     "text": [
      "[ 1  2  3 10 20 55]\n"
     ]
    }
   ],
   "source": [
    "# Criando uma variável numpy a partir de uma lista\n",
    "myThirdList=[1,2,3,10,20,55]\n",
    "n = np.array(myThirdList)\n",
    "print(n)\n",
    "#cria um array com valores de lista existente"
   ]
  },
  {
   "cell_type": "code",
   "execution_count": 141,
   "id": "6e3b1682-29e7-4985-846f-64b3919c606f",
   "metadata": {},
   "outputs": [
    {
     "name": "stdout",
     "output_type": "stream",
     "text": [
      "[[0.91279195 0.47968881 0.34433484 0.53713881 0.11921209 0.30228909\n",
      "  0.84260348 0.53919793 0.89164547 0.01041802]\n",
      " [0.40618021 0.02346861 0.57592133 0.29732176 0.55980616 0.54539698\n",
      "  0.06627965 0.89265006 0.34275758 0.14113403]\n",
      " [0.93804064 0.95802436 0.97000259 0.07810503 0.66809655 0.68013237\n",
      "  0.23216005 0.58259583 0.0903162  0.07301439]\n",
      " [0.46659292 0.16516484 0.59417955 0.46324832 0.56825658 0.27615594\n",
      "  0.22154584 0.21796378 0.36573678 0.46217649]\n",
      " [0.55372129 0.60066187 0.0114947  0.91730727 0.14787211 0.01134488\n",
      "  0.70287857 0.5224087  0.27847455 0.99306953]\n",
      " [0.86518861 0.23703811 0.13295017 0.16371537 0.46290343 0.42738757\n",
      "  0.19606139 0.05113591 0.42005325 0.81899035]\n",
      " [0.44823355 0.58564832 0.62139929 0.57366965 0.85956054 0.55055972\n",
      "  0.87127688 0.66857639 0.20150657 0.1396075 ]\n",
      " [0.54311799 0.09284242 0.87837486 0.76756304 0.61939656 0.54514977\n",
      "  0.83723345 0.87788661 0.29344767 0.4895825 ]\n",
      " [0.60122708 0.73997643 0.92256128 0.81661515 0.72400497 0.19698872\n",
      "  0.47206582 0.48153242 0.64687463 0.9535468 ]\n",
      " [0.4844916  0.46377384 0.68515421 0.08765051 0.99866245 0.57758113\n",
      "  0.46638903 0.40996553 0.343208   0.65011724]]\n",
      "(10, 10)\n"
     ]
    }
   ],
   "source": [
    "# Criando uma matriz de 10x10 de números aleatórios entre 0 e 1\n",
    "n = np.random.rand(10,10)\n",
    "print(n)\n",
    "# Dimensões da matrix\n",
    "print(n.shape)\n",
    "#n.shape tamanho da matriz\n",
    "#em matriz (x,y) será o numero de linhas e colunas"
   ]
  },
  {
   "cell_type": "code",
   "execution_count": 142,
   "id": "38b267f3-64fd-4f65-9c60-ca9681d790f1",
   "metadata": {},
   "outputs": [
    {
     "data": {
      "text/plain": [
       "array([0.91279195, 0.47968881, 0.34433484, 0.53713881, 0.11921209,\n",
       "       0.30228909, 0.84260348, 0.53919793, 0.89164547, 0.01041802])"
      ]
     },
     "execution_count": 142,
     "metadata": {},
     "output_type": "execute_result"
    }
   ],
   "source": [
    "# Acessando valores da matriz\n",
    "n[0,:]\n",
    "#acessando a primeira linha toda da matriz por slicing"
   ]
  },
  {
   "cell_type": "code",
   "execution_count": 143,
   "id": "47693943-1e49-41d5-b680-344a4b8af52c",
   "metadata": {},
   "outputs": [
    {
     "data": {
      "text/plain": [
       "array([0.91279195, 0.40618021, 0.93804064, 0.46659292, 0.55372129,\n",
       "       0.86518861, 0.44823355, 0.54311799, 0.60122708, 0.4844916 ])"
      ]
     },
     "execution_count": 143,
     "metadata": {},
     "output_type": "execute_result"
    }
   ],
   "source": [
    "n[:,0]\n",
    "#acessando a primeira coluna por slicing"
   ]
  },
  {
   "cell_type": "code",
   "execution_count": 144,
   "id": "eb8afb5e-4cdb-4fb4-b4cd-da1aada5912d",
   "metadata": {},
   "outputs": [
    {
     "data": {
      "text/plain": [
       "array([[0.47968881, 0.34433484, 0.53713881, 0.11921209],\n",
       "       [0.02346861, 0.57592133, 0.29732176, 0.55980616],\n",
       "       [0.95802436, 0.97000259, 0.07810503, 0.66809655],\n",
       "       [0.16516484, 0.59417955, 0.46324832, 0.56825658],\n",
       "       [0.60066187, 0.0114947 , 0.91730727, 0.14787211],\n",
       "       [0.23703811, 0.13295017, 0.16371537, 0.46290343],\n",
       "       [0.58564832, 0.62139929, 0.57366965, 0.85956054],\n",
       "       [0.09284242, 0.87837486, 0.76756304, 0.61939656],\n",
       "       [0.73997643, 0.92256128, 0.81661515, 0.72400497],\n",
       "       [0.46377384, 0.68515421, 0.08765051, 0.99866245]])"
      ]
     },
     "execution_count": 144,
     "metadata": {},
     "output_type": "execute_result"
    }
   ],
   "source": [
    "n[:,1:5]\n",
    "#acessando os valores das colunas 2,3,4,5 e 6 de todas as linhas\n",
    "#lembrar que o index começa em 0"
   ]
  },
  {
   "cell_type": "code",
   "execution_count": 145,
   "id": "a7cb1d4b-e467-4a13-ba79-72baadf81dbf",
   "metadata": {},
   "outputs": [
    {
     "data": {
      "text/plain": [
       "array([0.47968881, 0.34433484, 0.53713881, 0.11921209])"
      ]
     },
     "execution_count": 145,
     "metadata": {},
     "output_type": "execute_result"
    }
   ],
   "source": [
    "n[0,1:5]\n",
    "#fazendo o mesmo que antes só que só pra primeira linha"
   ]
  },
  {
   "cell_type": "code",
   "execution_count": 146,
   "id": "822ce78f-f4f7-4616-b038-1c9cb05a11d4",
   "metadata": {},
   "outputs": [
    {
     "data": {
      "text/plain": [
       "0.010418016982163825"
      ]
     },
     "execution_count": 146,
     "metadata": {},
     "output_type": "execute_result"
    }
   ],
   "source": [
    "n[0,-1]\n",
    "#acessando valor da primeira linha e ultima coluna usando sinal negativo ao invés de 9"
   ]
  },
  {
   "cell_type": "code",
   "execution_count": 147,
   "id": "2a916607-f8f8-4851-b6c2-8a3db829ab35",
   "metadata": {},
   "outputs": [
    {
     "data": {
      "text/plain": [
       "array([0.11921209, 0.30228909, 0.84260348, 0.53919793, 0.89164547])"
      ]
     },
     "execution_count": 147,
     "metadata": {},
     "output_type": "execute_result"
    }
   ],
   "source": [
    "n[0,4:-1]\n",
    "#acessando valores"
   ]
  },
  {
   "cell_type": "code",
   "execution_count": 148,
   "id": "b484f650-8726-46da-8169-85ac0aaaee2c",
   "metadata": {},
   "outputs": [
    {
     "data": {
      "text/plain": [
       "array([0.11921209, 0.30228909, 0.84260348, 0.53919793, 0.89164547,\n",
       "       0.01041802])"
      ]
     },
     "execution_count": 148,
     "metadata": {},
     "output_type": "execute_result"
    }
   ],
   "source": [
    "n[0,4:]\n",
    "#usando : como um \"até\" da coluna 4 até a última"
   ]
  },
  {
   "cell_type": "code",
   "execution_count": 149,
   "id": "a45c9b06-fba2-4f03-bdcc-be44b8b10ab8",
   "metadata": {},
   "outputs": [
    {
     "name": "stdout",
     "output_type": "stream",
     "text": [
      "[[ 1.51819061  0.87482021  0.54329719  0.98793918 -0.51741318  0.41306646\n",
      "   1.43817911  0.99176536  1.49475123 -2.95478066]\n",
      " [ 0.70847957 -2.14265355  1.0576537   0.39649755  1.02927321  1.00319657\n",
      "  -1.10443451  1.49587726  0.53870606 -0.34860738]\n",
      " [ 1.54547591  1.56655584  1.57898138 -0.94026288  1.20611534  1.22397008\n",
      "   0.14910963  1.06917631 -0.7950005  -1.00766077]\n",
      " [ 0.84713981 -0.19137337  1.08886418  0.83994588  1.04425568  0.32264835\n",
      "   0.10231215  0.08601155  0.60359652  0.83762946]\n",
      " [ 1.0183441   1.0997148  -2.85643138  1.52312513 -0.30196959 -2.86955121\n",
      "   1.25686678  0.96013286  0.33100929  1.60248332]\n",
      " [ 1.46463017  0.16990355 -0.40834298 -0.200188    0.83920108  0.75937389\n",
      "  -0.01988954 -1.36383032  0.74206412  1.40975493]\n",
      " [ 0.80699705  1.0744021   1.1336565   1.05373633  1.45810389  1.01261808\n",
      "   1.47164245  1.20683329  0.00750461 -0.35948242]\n",
      " [ 0.99900923 -0.76741368  1.47975608  1.34490324  1.13042835  1.0027432\n",
      "   1.43178558  1.47920007  0.38338197  0.89523563]\n",
      " [ 1.10065533  1.30830097  1.52883644  1.40685056  1.28648089 -0.01517091\n",
      "   0.85880106  0.87865619  1.17383514  1.56187114]\n",
      " [ 0.88478272  0.84107965  1.23132657 -0.8249599   1.60809947  1.06053155\n",
      "   0.84670274  0.71775572  0.54001931  1.17883534]]\n"
     ]
    }
   ],
   "source": [
    "an = np.log(n*5)\n",
    "print(an)\n",
    "#usando operação nos valores da matriz"
   ]
  }
 ],
 "metadata": {
  "kernelspec": {
   "display_name": "Python 3 (ipykernel)",
   "language": "python",
   "name": "python3"
  },
  "language_info": {
   "codemirror_mode": {
    "name": "ipython",
    "version": 3
   },
   "file_extension": ".py",
   "mimetype": "text/x-python",
   "name": "python",
   "nbconvert_exporter": "python",
   "pygments_lexer": "ipython3",
   "version": "3.11.8"
  }
 },
 "nbformat": 4,
 "nbformat_minor": 5
}
