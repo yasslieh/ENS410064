{
 "cells": [
  {
   "cell_type": "markdown",
   "id": "65f32c93-031a-427d-aeba-f4adf19fca54",
   "metadata": {},
   "source": [
    "## Atividade 03 - Parte 01"
   ]
  },
  {
   "cell_type": "code",
   "execution_count": 6,
   "id": "235b6d39-e0c5-4ef2-94ef-d704d25ed383",
   "metadata": {},
   "outputs": [],
   "source": [
    "import pandas as pd\n",
    "import numpy as np\n",
    "from IPython.display import Image, display"
   ]
  },
  {
   "cell_type": "markdown",
   "id": "bb62c215-ae91-47e5-ad8b-10faa6da0587",
   "metadata": {},
   "source": [
    "#### Função para determinar a classe de estabilidade de Pasquill"
   ]
  },
  {
   "cell_type": "code",
   "execution_count": 7,
   "id": "d037bdc6-9863-49b6-adc8-cfa67c33227a",
   "metadata": {},
   "outputs": [],
   "source": [
    "def pasquill(periodo):\n",
    "    if periodo=='dia':\n",
    "        # Gerando valor aleatório para radiação solar (Monte-Carlo)\n",
    "        solar = np.random.rand(1)\n",
    "        Max = 1000\n",
    "        Min = 200\n",
    "        solar = (Max-Min)*solar + Min\n",
    "        # Gerando valor aleatório para velocidade do vento (Monte-Carlo)\n",
    "        vento = np.random.rand(1)\n",
    "        Max = 10\n",
    "        Min = 0\n",
    "        vento = (Max-Min)*vento + Min\n",
    "        return {'Radiação solar (W/m2)': [solar[0]], \n",
    "                'Velocidade do vento (m/s)': [vento[0]]} \n",
    "    if periodo=='noite':\n",
    "        # Gerando valor aleatório para cobertura de nuvens\n",
    "        nuvens = np.random.randint(0,9)\n",
    "        # Gerando valor aleatório para velocidade do vento (Monte-Carlo)\n",
    "        vento = np.random.rand(1)\n",
    "        Max = 10\n",
    "        Min = 2\n",
    "        vento = (Max-Min)*vento + Min\n",
    "        return {'Cobertura de nuvens': [str(nuvens)+'/8'], \n",
    "                'Velocidade do vento (m/s)': [vento[0]]} "
   ]
  },
  {
   "cell_type": "markdown",
   "id": "1d99d327-be2a-41bc-a63c-aac3bede39f3",
   "metadata": {},
   "source": [
    "### Função de estimativa de coeficiente de dispersão (sigmaYZ) para todas as classes de estabilidade"
   ]
  },
  {
   "cell_type": "code",
   "execution_count": 19,
   "id": "9c3e4b1c-886d-488e-9bd6-61fb256e2cdb",
   "metadata": {},
   "outputs": [],
   "source": [
    "# Função para estimar as dispersões lateral e vertical da pluma \n",
    "def sigmaYZ(UR, classe, x):\n",
    "    if (classe=='A' or classe=='B') and UR=='urbano':\n",
    "        sigY = 0.32*x*((1+0.0004*x)**(-0.5)) \n",
    "        sigZ = 0.24*x*((1+0.001*x)**(0.5)) \n",
    "    if classe=='C' and UR=='urbano':\n",
    "        sigY = 0.22*x*((1+0.0004*x)**(-0.5)) \n",
    "        sigZ = 0.20*x \n",
    "    if classe=='D' and UR=='urbano':\n",
    "        sigY = 0.16*x*((1+0.0004*x)**(-0.5)) \n",
    "        sigZ = 0.14*x*((1+0.0003*x)**(-0.5))\n",
    "    if (classe=='E' or classe=='F') and UR=='urbano':\n",
    "        sigY = 0.11*x*((1+0.0004*x)**(-0.5)) \n",
    "        sigZ = 0.08*x*((1+0.0015*x)**(-0.5)) \n",
    "    if classe=='A' and UR=='rural':\n",
    "        sigY = 0.22*x*((1+0.0001*x)**(-0.5)) \n",
    "        sigZ = 0.20*x \n",
    "    if classe=='B' and UR=='rural':\n",
    "        sigY = 0.16*x*((1+0.0001*x)**(-0.5))\n",
    "        sigZ = 0.12*x      \n",
    "    if classe=='C' and UR=='rural':\n",
    "        sigY = 0.11*x*((1+0.0001*x)**(-0.5))\n",
    "        sigZ = 0.08*x*((1+0.0002*x)**(-0.5))           \n",
    "    if classe=='D' and UR=='rural':\n",
    "        sigY = 0.08*x*((1+0.0001*x)**(-0.5))\n",
    "        sigZ = 0.06*x*((1+0.0015*x)**(-0.5))      \n",
    "    if classe=='E' and UR=='rural':\n",
    "        sigY = 0.06*x*((1+0.0001*x)**(-0.5))\n",
    "        sigZ = 0.03*x*((1+0.0003*x)**(-1))\n",
    "    if classe=='F' and UR=='rural':\n",
    "        sigY = 0.04*x*((1+0.0001*x)**(-0.5))\n",
    "        sigZ = 0.016*x*((1+0.0003*x)**(-1))\n",
    "    return float(sigY), float(sigZ)"
   ]
  },
  {
   "cell_type": "code",
   "execution_count": 20,
   "id": "fe14ffc4-bf41-4cc1-bb27-e70f7621fc72",
   "metadata": {},
   "outputs": [],
   "source": [
    "# Função para estimar as dispersões lateral e vertical da pluma \n",
    "def sigmasYZ(UR, classe, x):\n",
    "    if (classe=='A' or classe=='B') and UR=='urbano':\n",
    "        sigmaY = 0.32*x*((1+0.0004*x)**(-0.5)) \n",
    "        sigmaZ = 0.24*x*((1+0.001*x)**(0.5)) \n",
    "    if classe=='C' and UR=='urbano':\n",
    "        sigmaY = 0.22*x*((1+0.0004*x)**(-0.5)) \n",
    "        sigmaZ = 0.20*x \n",
    "    if classe=='D' and UR=='urbano':\n",
    "        sigmaY = 0.16*x*((1+0.0004*x)**(-0.5)) \n",
    "        sigmaZ = 0.14*x*((1+0.0003*x)**(-0.5))\n",
    "    if (classe=='E' or classe=='F') and UR=='urbano':\n",
    "        sigmaY = 0.11*x*((1+0.0004*x)**(-0.5)) \n",
    "        sigmaZ = 0.08*x*((1+0.0015*x)**(-0.5)) \n",
    "    if classe=='A' and UR=='rural':\n",
    "        sigmaY = 0.22*x*((1+0.0001*x)**(-0.5)) \n",
    "        sigmaZ = 0.20*x \n",
    "    if classe=='B' and UR=='rural':\n",
    "        sigmaY = 0.16*x*((1+0.0001*x)**(-0.5))\n",
    "        sigmaZ = 0.12*x      \n",
    "    if classe=='C' and UR=='rural':\n",
    "        sigmaY = 0.11*x*((1+0.0001*x)**(-0.5))\n",
    "        sigmaZ = 0.08*x*((1+0.0002*x)**(-0.5))           \n",
    "    if classe=='D' and UR=='rural':\n",
    "        sigmaY = 0.08*x*((1+0.0001*x)**(-0.5))\n",
    "        sigmaZ = 0.06*x*((1+0.0015*x)**(-0.5))      \n",
    "    if classe=='E' and UR=='rural':\n",
    "        sigmaY = 0.06*x*((1+0.0001*x)**(-0.5))\n",
    "        sigmaZ = 0.03*x*((1+0.0003*x)**(-1))\n",
    "    if classe=='F' and UR=='rural':\n",
    "        sigmaY = 0.04*x*((1+0.0001*x)**(-0.5))\n",
    "        sigmaZ = 0.016*x*((1+0.0003*x)**(-1))\n",
    "    return {'Sigma Y': [sigmaY], 'Sigma Z': [sigmaZ]} "
   ]
  },
  {
   "cell_type": "markdown",
   "id": "11259a81-7cfb-453a-8eca-fa39a7437ca1",
   "metadata": {},
   "source": [
    "### Função de estimativa de sobrelevação da pluma"
   ]
  },
  {
   "cell_type": "code",
   "execution_count": 9,
   "id": "293e796f-d555-4ecc-a3a2-cef9acfc02f8",
   "metadata": {},
   "outputs": [],
   "source": [
    "# Gerando valores aleatórios para u, Vs & Ts (Monte-Carlo)\n",
    "def variaveis():\n",
    "    u = np.random.rand(1) # velocidade do vento na altura da chaminé\n",
    "    Max = 10\n",
    "    Min = 0\n",
    "    u = (Max-Min)*u + Min\n",
    "    Vs = np.random.rand(1) # velocidade dos gases na saída da chaminé\n",
    "    Max = 10\n",
    "    Min = 0\n",
    "    Vs = (Max-Min)*Vs + Min\n",
    "    Ts = np.random.rand(1) # temperatura dos gases na saída da chaminé \n",
    "    Max = 700\n",
    "    Min = 400\n",
    "    Ts = (Max-Min)*Ts + Min\n",
    "    return{'Velocidade do vento (m/s)': [u[0]], \n",
    "           'Velocidade dos gases (m/s)': [Vs[0]], \n",
    "           'Temperatura dos gases (K)': [Ts[0]], \n",
    "           'Diâmetro da chaminé (m)': [1]} "
   ]
  },
  {
   "cell_type": "code",
   "execution_count": 10,
   "id": "83a9ba00-faea-42bc-aacb-371601860242",
   "metadata": {},
   "outputs": [],
   "source": [
    "# Método de Davidson-Bryant \n",
    "def bryant(u, vs, ts, d):\n",
    "    deltaH = d*((vs/u)**1.4)*(1+((ts-300)/ts))\n",
    "    return deltaH "
   ]
  },
  {
   "cell_type": "code",
   "execution_count": 11,
   "id": "ff594e8d-7035-4636-a251-7aae6a5f323a",
   "metadata": {},
   "outputs": [],
   "source": [
    "# Método de Holland\n",
    "def holland(u, vs, ts, d, classe):\n",
    "    deltaH = (vs*d/u)*(1.5+(0.00268*1013*(ts-300)*d/ts))\n",
    "    if classe=='A' or classe=='B' or classe=='C': # condições instáveis \n",
    "        deltaH = 1.15*deltaH # acréscimo de 15%\n",
    "    else:\n",
    "        deltaH = 0.85*deltaH # decréscimo de 15% \n",
    "    return deltaH "
   ]
  },
  {
   "cell_type": "code",
   "execution_count": 12,
   "id": "e4c7b60d-41a7-4bf1-8145-88cd6103bd89",
   "metadata": {},
   "outputs": [],
   "source": [
    "# Análise do efeito Tip-Downwash e cálculo da altura efetiva\n",
    "def Hef(Hg, dH, vs, u, d):\n",
    "    if vs<(1.5*u):\n",
    "        Hefetiva = Hg + (2*d*((vs/u)-1.5)) + dH \n",
    "    else:\n",
    "        Hefetiva = Hg + dH\n",
    "    return Hefetiva "
   ]
  },
  {
   "cell_type": "code",
   "execution_count": 13,
   "id": "4b079529-69b0-45d6-aa34-ceca60fa7da2",
   "metadata": {},
   "outputs": [],
   "source": [
    "def modeloGaussiano(qs, sigmaY, sigmaZ, u, y, z, H):\n",
    "    # Converte sigmaY e sigmaZ para números individuais, se necessário\n",
    "    sigmaY = sigmaY[0] if isinstance(sigmaY, list) else sigmaY\n",
    "    sigmaZ = sigmaZ[0] if isinstance(sigmaZ, list) else sigmaZ\n",
    "    \n",
    "    termo1 = qs/(2*np.pi*sigmaY*sigmaZ*u)\n",
    "    termo2 = np.exp((-y**2)/(2*sigmaY**2))\n",
    "    termo3 = np.exp((-(z-H)**2)/(2*sigmaZ**2)) + np.exp((-(z+H)**2)/(2*sigmaZ**2))\n",
    "    conc = termo1*termo2*termo3\n",
    "    conc = conc*10**6\n",
    "    return conc # micro g/m3 "
   ]
  },
  {
   "cell_type": "markdown",
   "id": "fb0c01ad-2783-47f3-933f-4e69b18df9cc",
   "metadata": {},
   "source": [
    "### Simulações com o script"
   ]
  },
  {
   "cell_type": "markdown",
   "id": "c74ec77d-296e-429b-b13d-87acec465c4f",
   "metadata": {},
   "source": [
    "##### CONAMA 491/2018 \n",
    "https://www.in.gov.br/web/guest/materia/-/asset_publisher/Kujrw0TZC2Mb/content/id/51058895/do1-2018-11-21-resolucao-n-491-de-19-de-novembro-de-2018-51058603"
   ]
  },
  {
   "cell_type": "code",
   "execution_count": null,
   "id": "2a8c8136-0815-45b1-84c1-d67e7f42b258",
   "metadata": {},
   "outputs": [],
   "source": [
    "# OBS: nossas medias anuais em g/s:\n",
    "# PM = 131.772771\t\n",
    "# PM-10\t= 21.409322\n",
    "# NOX = 1.393929\t\n",
    "# CO = 50.354440\t\n",
    "# VOC as propane = 84.648386  "
   ]
  },
  {
   "cell_type": "markdown",
   "id": "d4ac0a2e-f06a-4c87-b5b5-830515462054",
   "metadata": {},
   "source": [
    "#### PM10: limite = 20 micro g/m³"
   ]
  },
  {
   "cell_type": "code",
   "execution_count": 14,
   "id": "d2fe0658-e9ff-463b-b418-33c451db5691",
   "metadata": {},
   "outputs": [
    {
     "data": {
      "text/html": [
       "<div>\n",
       "<style scoped>\n",
       "    .dataframe tbody tr th:only-of-type {\n",
       "        vertical-align: middle;\n",
       "    }\n",
       "\n",
       "    .dataframe tbody tr th {\n",
       "        vertical-align: top;\n",
       "    }\n",
       "\n",
       "    .dataframe thead th {\n",
       "        text-align: right;\n",
       "    }\n",
       "</style>\n",
       "<table border=\"1\" class=\"dataframe\">\n",
       "  <thead>\n",
       "    <tr style=\"text-align: right;\">\n",
       "      <th></th>\n",
       "      <th>Radiação solar (W/m2)</th>\n",
       "      <th>Velocidade do vento (m/s)</th>\n",
       "    </tr>\n",
       "  </thead>\n",
       "  <tbody>\n",
       "    <tr>\n",
       "      <th>0</th>\n",
       "      <td>798.983902</td>\n",
       "      <td>9.858911</td>\n",
       "    </tr>\n",
       "  </tbody>\n",
       "</table>\n",
       "</div>"
      ],
      "text/plain": [
       "   Radiação solar (W/m2)  Velocidade do vento (m/s)\n",
       "0             798.983902                   9.858911"
      ]
     },
     "execution_count": 14,
     "metadata": {},
     "output_type": "execute_result"
    }
   ],
   "source": [
    "df = pd.DataFrame(data=pasquill('dia'))\n",
    "df"
   ]
  },
  {
   "cell_type": "code",
   "execution_count": 46,
   "id": "1c815a46-7043-4cdb-8114-a290e73db728",
   "metadata": {},
   "outputs": [
    {
     "data": {
      "image/png": "[encoded data removed]",
      "text/plain": [
       "<IPython.core.display.Image object>"
      ]
     },
     "metadata": {},
     "output_type": "display_data"
    }
   ],
   "source": [
    "display(Image(filename=\"C:\\\\UFSC\\\\ENS410064\\\\venv\\\\Scripts\\\\inputs\\\\images.png\"))"
   ]
  },
  {
   "cell_type": "code",
   "execution_count": 15,
   "id": "88685dae-af3e-42ec-babc-5a7104628fa4",
   "metadata": {},
   "outputs": [],
   "source": [
    "Classe = 'A'"
   ]
  },
  {
   "cell_type": "code",
   "execution_count": 21,
   "id": "f0b9b864-94ff-4636-908d-3e6988d27602",
   "metadata": {},
   "outputs": [
    {
     "data": {
      "text/html": [
       "<div>\n",
       "<style scoped>\n",
       "    .dataframe tbody tr th:only-of-type {\n",
       "        vertical-align: middle;\n",
       "    }\n",
       "\n",
       "    .dataframe tbody tr th {\n",
       "        vertical-align: top;\n",
       "    }\n",
       "\n",
       "    .dataframe thead th {\n",
       "        text-align: right;\n",
       "    }\n",
       "</style>\n",
       "<table border=\"1\" class=\"dataframe\">\n",
       "  <thead>\n",
       "    <tr style=\"text-align: right;\">\n",
       "      <th></th>\n",
       "      <th>Sigma Y</th>\n",
       "      <th>Sigma Z</th>\n",
       "    </tr>\n",
       "  </thead>\n",
       "  <tbody>\n",
       "    <tr>\n",
       "      <th>0</th>\n",
       "      <td>31.378582</td>\n",
       "      <td>25.171412</td>\n",
       "    </tr>\n",
       "  </tbody>\n",
       "</table>\n",
       "</div>"
      ],
      "text/plain": [
       "     Sigma Y    Sigma Z\n",
       "0  31.378582  25.171412"
      ]
     },
     "execution_count": 21,
     "metadata": {},
     "output_type": "execute_result"
    }
   ],
   "source": [
    "sigmas = pd.DataFrame(data=sigmasYZ('urbano', Classe, 100)) \n",
    "sigmas"
   ]
  },
  {
   "cell_type": "code",
   "execution_count": 22,
   "id": "50c0bd03-3bee-4500-b75f-3d084f5f0977",
   "metadata": {},
   "outputs": [
    {
     "data": {
      "text/html": [
       "<div>\n",
       "<style scoped>\n",
       "    .dataframe tbody tr th:only-of-type {\n",
       "        vertical-align: middle;\n",
       "    }\n",
       "\n",
       "    .dataframe tbody tr th {\n",
       "        vertical-align: top;\n",
       "    }\n",
       "\n",
       "    .dataframe thead th {\n",
       "        text-align: right;\n",
       "    }\n",
       "</style>\n",
       "<table border=\"1\" class=\"dataframe\">\n",
       "  <thead>\n",
       "    <tr style=\"text-align: right;\">\n",
       "      <th></th>\n",
       "      <th>Velocidade do vento (m/s)</th>\n",
       "      <th>Velocidade dos gases (m/s)</th>\n",
       "      <th>Temperatura dos gases (K)</th>\n",
       "      <th>Diâmetro da chaminé (m)</th>\n",
       "    </tr>\n",
       "  </thead>\n",
       "  <tbody>\n",
       "    <tr>\n",
       "      <th>0</th>\n",
       "      <td>0.86314</td>\n",
       "      <td>4.870429</td>\n",
       "      <td>697.210127</td>\n",
       "      <td>1</td>\n",
       "    </tr>\n",
       "  </tbody>\n",
       "</table>\n",
       "</div>"
      ],
      "text/plain": [
       "   Velocidade do vento (m/s)  Velocidade dos gases (m/s)  \\\n",
       "0                    0.86314                    4.870429   \n",
       "\n",
       "   Temperatura dos gases (K)  Diâmetro da chaminé (m)  \n",
       "0                 697.210127                        1  "
      ]
     },
     "execution_count": 22,
     "metadata": {},
     "output_type": "execute_result"
    }
   ],
   "source": [
    "dados = pd.DataFrame(data=variaveis())   \n",
    "dados"
   ]
  },
  {
   "cell_type": "code",
   "execution_count": 23,
   "id": "5277d947-cca0-4bd2-a6d5-f8be73a6e86c",
   "metadata": {},
   "outputs": [
    {
     "data": {
      "text/plain": [
       "17.69703866708682"
      ]
     },
     "execution_count": 23,
     "metadata": {},
     "output_type": "execute_result"
    }
   ],
   "source": [
    "dH1 = bryant(dados['Velocidade do vento (m/s)'][0],\n",
    "            dados['Velocidade dos gases (m/s)'][0],\n",
    "            dados['Temperatura dos gases (K)'][0],\n",
    "            dados['Diâmetro da chaminé (m)'][0])\n",
    "dH1"
   ]
  },
  {
   "cell_type": "code",
   "execution_count": 24,
   "id": "1b686a51-700f-41a7-83a9-b64f6f02049d",
   "metadata": {},
   "outputs": [
    {
     "data": {
      "text/plain": [
       "19.77018415179589"
      ]
     },
     "execution_count": 24,
     "metadata": {},
     "output_type": "execute_result"
    }
   ],
   "source": [
    "dH2 = holland(dados['Velocidade do vento (m/s)'][0],\n",
    "              dados['Velocidade dos gases (m/s)'][0],\n",
    "              dados['Temperatura dos gases (K)'][0],\n",
    "              dados['Diâmetro da chaminé (m)'][0], \n",
    "              Classe)\n",
    "dH2"
   ]
  },
  {
   "cell_type": "code",
   "execution_count": 25,
   "id": "4f848275-7e1f-4239-8b1c-d284d18b2f16",
   "metadata": {},
   "outputs": [
    {
     "data": {
      "text/plain": [
       "44.77018415179589"
      ]
     },
     "execution_count": 25,
     "metadata": {},
     "output_type": "execute_result"
    }
   ],
   "source": [
    "HG = 25.0\n",
    "HEF = Hef(HG, \n",
    "      dH2, \n",
    "      dados['Velocidade dos gases (m/s)'][0], \n",
    "      dados['Velocidade do vento (m/s)'][0], \n",
    "      dados['Diâmetro da chaminé (m)'][0])\n",
    "HEF"
   ]
  },
  {
   "cell_type": "code",
   "execution_count": 26,
   "id": "6c1c21f9-4277-4731-8eff-d94ab22a1294",
   "metadata": {},
   "outputs": [],
   "source": [
    "# OBS: nossas medias anuais em g/s:\n",
    "# PM = 131.772771\t\n",
    "# PM-10\t= 21.409322\n",
    "# NOX = 1.393929\t\n",
    "# CO = 50.354440\t\n",
    "# VOC as propane = 84.648386  \t\t"
   ]
  },
  {
   "cell_type": "code",
   "execution_count": 27,
   "id": "02068117-1dd6-47ca-b082-21b7ba7e19e4",
   "metadata": {},
   "outputs": [
    {
     "data": {
      "text/plain": [
       "133.98356356403525"
      ]
     },
     "execution_count": 27,
     "metadata": {},
     "output_type": "execute_result"
    }
   ],
   "source": [
    "QS = 1.393929 # media NOX (anual) - (g/s)\n",
    "Y = 1\n",
    "Z = 1\n",
    "Conc = modeloGaussiano(QS,\n",
    "                       sigmas['Sigma Y'][0],\n",
    "                       sigmas['Sigma Z'][0],\n",
    "                       dados['Velocidade do vento (m/s)'][0],\n",
    "                       Y,\n",
    "                       Z,\n",
    "                       HEF) \n",
    "Conc # micro g/m3\n",
    "#Limite CONAMA 491 = 40 micro g/m3"
   ]
  },
  {
   "cell_type": "markdown",
   "id": "a312dd5a-898c-4f14-91a9-2886cd6e64bf",
   "metadata": {},
   "source": [
    "### Simulações para diferentes níveis de estabilidade da atmosfera"
   ]
  },
  {
   "cell_type": "markdown",
   "id": "1a554d8d-43da-4d35-82e8-d6d9122af38f",
   "metadata": {},
   "source": [
    "##### Condição = instável (Pasquill E)"
   ]
  },
  {
   "cell_type": "code",
   "execution_count": 31,
   "id": "5e1138f3-1fc3-4b9d-a295-85d006f8fd2a",
   "metadata": {},
   "outputs": [],
   "source": [
    "import numpy as np\n",
    "import pandas as pd\n",
    "import matplotlib.pyplot as plt\n",
    "\n",
    "#definição de parâmetros utilizando dados da Atividade01\n",
    "classe= 'E'\n",
    "y = 0 #direção do vento\n",
    "z = 1.60 #m \n",
    "UR = 'urbano'\n",
    "u = 7 #m/s\n",
    "H = 50 #m, altura da chaminé \n",
    "diam = 1 #m, diâmetro da chaminé\n",
    "V = 9 #m/s, velocidade dos gases\n",
    "T = 525 #K, temperatura dos gases\n",
    "x = np.arange(1, 6001, 100)\n",
    "\n",
    "#listas para armazenar resultados\n",
    "resultPM = []\n",
    "resultPM10 = []\n",
    "resultNOX = []\n",
    "resultCO =[]\n",
    "resultVOC = []\n",
    "\n",
    "#média de cada poluente\n",
    "PM = 0.135\n",
    "PM10 = 0.0219\n",
    "NOX = 0.00057\n",
    "CO = 0.052\n",
    "VOC = 0.0385\n",
    "\n",
    "# Gerando os valores utilizando as funções pré-definidas e calculando concentrações máximas\n",
    "max_conc = {\n",
    "    'PM': -np.inf,\n",
    "    'PM10': -np.inf,\n",
    "    'NOX': -np.inf,\n",
    "    'CO': -np.inf,\n",
    "    'VOC': -np.inf\n",
    "}\n",
    "\n",
    "#gerando os valores utilizando as funções pré-definidas\n",
    "for valor_x in x:\n",
    "    sigY, sigZ = sigmaYZ(UR, classe, valor_x)\n",
    "    if sigY != 0 and sigZ != 0:\n",
    "        conc = modeloGaussiano (PM, sigY, sigZ, u, y, z, H)\n",
    "        resultPM.append(conc)\n",
    "        if conc > max_conc['PM']:\n",
    "            max_conc['PM'] = conc\n",
    "for valor_x in x:\n",
    "    sigY, sigZ = sigmaYZ(UR, classe, valor_x)\n",
    "    if sigY != 0 and sigZ != 0:\n",
    "        conc = modeloGaussiano (PM10, sigY, sigZ, u, y, z, H)\n",
    "        resultPM10.append(conc)\n",
    "        if conc > max_conc['PM10']:\n",
    "            max_conc['PM10'] = conc\n",
    "for valor_x in x:\n",
    "    sigY, sigZ = sigmaYZ(UR, classe, valor_x)\n",
    "    if sigY != 0 and sigZ != 0:\n",
    "        conc = modeloGaussiano (NOX, sigY, sigZ, u, y, z, H)\n",
    "        resultNOX.append(conc)\n",
    "        if conc > max_conc['NOX']:\n",
    "            max_conc['NOX'] = conc\n",
    "for valor_x in x:\n",
    "    sigY, sigZ = sigmaYZ(UR, classe, valor_x)\n",
    "    if sigY != 0 and sigZ != 0:\n",
    "        conc = modeloGaussiano (CO, sigY, sigZ, u, y, z, H)\n",
    "        resultCO.append(conc)\n",
    "        if conc > max_conc['CO']:\n",
    "            max_conc['CO'] = conc\n",
    "for valor_x in x:\n",
    "    sigY, sigZ = sigmaYZ(UR, classe, valor_x)\n",
    "    if sigY != 0 and sigZ != 0:\n",
    "        conc = modeloGaussiano (VOC, sigY, sigZ, u, y, z, H)\n",
    "        resultVOC.append(conc)\n",
    "        if conc > max_conc['VOC']:\n",
    "            max_conc['VOC'] = conc\n",
    "\n",
    "# Criar um DataFrame para exibir as concentrações máximas\n",
    "df_max_conc = pd.DataFrame.from_dict(max_conc, orient='index', columns=['Concentração Máxima (g/s)'])\n",
    "df_max_conc = df_max_conc.round(2)"
   ]
  },
  {
   "cell_type": "code",
   "execution_count": 32,
   "id": "8341ed64-4ded-4f32-a2c9-b26449227a35",
   "metadata": {},
   "outputs": [
    {
     "data": {
      "image/png": "[encoded data removed]",
      "text/plain": [
       "<Figure size 600x400 with 1 Axes>"
      ]
     },
     "metadata": {},
     "output_type": "display_data"
    },
    {
     "name": "stdout",
     "output_type": "stream",
     "text": [
      "Concentrações máximas de cada poluente:\n",
      "      Concentração Máxima (g/s)\n",
      "PM                         1.06\n",
      "PM10                       0.17\n",
      "NOX                        0.00\n",
      "CO                         0.41\n",
      "VOC                        0.30\n"
     ]
    }
   ],
   "source": [
    "import numpy as np\n",
    "import pandas as pd\n",
    "import matplotlib.pyplot as plt\n",
    "\n",
    "# Plotagem dos resultados\n",
    "plt.figure(figsize=(6, 4))\n",
    "\n",
    "plt.plot(x, resultPM, linestyle='-', color='g', label='PM', linewidth = 1)\n",
    "plt.plot(x, resultPM10, linestyle='-', color='r', label='PM10', linewidth = 1)\n",
    "plt.plot(x, resultNOX, linestyle='-', color='c', label='NOX', linewidth = 1)\n",
    "plt.plot(x, resultCO, linestyle='-', color='m', label='CO', linewidth = 1)\n",
    "plt.plot(x, resultVOC, linestyle='-', color='y', label='VOC', linewidth = 1)\n",
    "\n",
    "plt.xlabel('Distância x (m)')\n",
    "plt.ylabel('Concentração (g/s)')\n",
    "plt.title('Resultado da Simulação')\n",
    "plt.grid(False)\n",
    "plt.legend()\n",
    "plt.show()\n",
    "\n",
    "print(\"Concentrações máximas de cada poluente:\")\n",
    "print(df_max_conc)"
   ]
  },
  {
   "cell_type": "markdown",
   "id": "1b30e91e-57e0-4308-97ac-86c7abc3d8db",
   "metadata": {},
   "source": [
    "##### Condição = estável (Pasquill A)"
   ]
  },
  {
   "cell_type": "code",
   "execution_count": 33,
   "id": "6bcfc995-e5a7-4c0c-be42-40b7c4775db8",
   "metadata": {},
   "outputs": [],
   "source": [
    "import numpy as np\n",
    "import pandas as pd\n",
    "import matplotlib.pyplot as plt\n",
    "\n",
    "#definição de parâmetros utilizando dados da Atividade01\n",
    "classe= 'A'\n",
    "y = 0 #direção do vento\n",
    "z = 1.60 #m \n",
    "UR = 'urbano'\n",
    "u = 1 #m/s\n",
    "H = 50 #m, altura da chaminé \n",
    "diam = 1 #m, diâmetro da chaminé\n",
    "V = 9 #m/s, velocidade dos gases\n",
    "T = 525 #K, temperatura dos gases\n",
    "x = np.arange(1, 6001, 100)\n",
    "\n",
    "#listas para armazenar resultados\n",
    "resultPM = []\n",
    "resultPM10 = []\n",
    "resultNOX = []\n",
    "resultCO =[]\n",
    "resultVOC = []\n",
    "\n",
    "#média de cada poluente\n",
    "PM = 0.135\n",
    "PM10 = 0.0219\n",
    "NOX = 0.00057\n",
    "CO = 0.052\n",
    "VOC = 0.0385\n",
    "\n",
    "# Gerando os valores utilizando as funções pré-definidas e calculando concentrações máximas\n",
    "max_conc = {\n",
    "    'PM': -np.inf,\n",
    "    'PM10': -np.inf,\n",
    "    'NOX': -np.inf,\n",
    "    'CO': -np.inf,\n",
    "    'VOC': -np.inf\n",
    "}\n",
    "\n",
    "#gerando os valores utilizando as funções pré-definidas\n",
    "for valor_x in x:\n",
    "    sigY, sigZ = sigmaYZ(UR, classe, valor_x)\n",
    "    if sigY != 0 and sigZ != 0:\n",
    "        conc = modeloGaussiano (PM, sigY, sigZ, u, y, z, H)\n",
    "        resultPM.append(conc)\n",
    "        if conc > max_conc['PM']:\n",
    "            max_conc['PM'] = conc\n",
    "for valor_x in x:\n",
    "    sigY, sigZ = sigmaYZ(UR, classe, valor_x)\n",
    "    if sigY != 0 and sigZ != 0:\n",
    "        conc = modeloGaussiano (PM10, sigY, sigZ, u, y, z, H)\n",
    "        resultPM10.append(conc)\n",
    "        if conc > max_conc['PM10']:\n",
    "            max_conc['PM10'] = conc\n",
    "for valor_x in x:\n",
    "    sigY, sigZ = sigmaYZ(UR, classe, valor_x)\n",
    "    if sigY != 0 and sigZ != 0:\n",
    "        conc = modeloGaussiano (NOX, sigY, sigZ, u, y, z, H)\n",
    "        resultNOX.append(conc)\n",
    "        if conc > max_conc['NOX']:\n",
    "            max_conc['NOX'] = conc\n",
    "for valor_x in x:\n",
    "    sigY, sigZ = sigmaYZ(UR, classe, valor_x)\n",
    "    if sigY != 0 and sigZ != 0:\n",
    "        conc = modeloGaussiano (CO, sigY, sigZ, u, y, z, H)\n",
    "        resultCO.append(conc)\n",
    "        if conc > max_conc['CO']:\n",
    "            max_conc['CO'] = conc\n",
    "for valor_x in x:\n",
    "    sigY, sigZ = sigmaYZ(UR, classe, valor_x)\n",
    "    if sigY != 0 and sigZ != 0:\n",
    "        conc = modeloGaussiano (VOC, sigY, sigZ, u, y, z, H)\n",
    "        resultVOC.append(conc)\n",
    "        if conc > max_conc['VOC']:\n",
    "            max_conc['VOC'] = conc\n",
    "\n",
    "# Criar um DataFrame para exibir as concentrações máximas\n",
    "df_max_conc = pd.DataFrame.from_dict(max_conc, orient='index', columns=['Concentração Máxima (g/s)'])\n",
    "df_max_conc = df_max_conc.round(2)"
   ]
  },
  {
   "cell_type": "code",
   "execution_count": 34,
   "id": "28333de3-ec65-40ad-9200-8b29b79f7be5",
   "metadata": {},
   "outputs": [
    {
     "data": {
      "image/png": "[encoded data removed]",
      "text/plain": [
       "<Figure size 600x400 with 1 Axes>"
      ]
     },
     "metadata": {},
     "output_type": "display_data"
    },
    {
     "name": "stdout",
     "output_type": "stream",
     "text": [
      "Concentrações máximas de cada poluente:\n",
      "      Concentração Máxima (g/s)\n",
      "PM                         8.40\n",
      "PM10                       1.36\n",
      "NOX                        0.04\n",
      "CO                         3.23\n",
      "VOC                        2.40\n"
     ]
    }
   ],
   "source": [
    "import numpy as np\n",
    "import pandas as pd\n",
    "import matplotlib.pyplot as plt\n",
    "\n",
    "# Plotagem dos resultados\n",
    "plt.figure(figsize=(6, 4))\n",
    "\n",
    "plt.plot(x, resultPM, linestyle='-', color='g', label='PM', linewidth = 1)\n",
    "plt.plot(x, resultPM10, linestyle='-', color='r', label='PM10', linewidth = 1)\n",
    "plt.plot(x, resultNOX, linestyle='-', color='c', label='NOX', linewidth = 1)\n",
    "plt.plot(x, resultCO, linestyle='-', color='m', label='CO', linewidth = 1)\n",
    "plt.plot(x, resultVOC, linestyle='-', color='y', label='VOC', linewidth = 1)\n",
    "\n",
    "plt.xlabel('Distância x (m)')\n",
    "plt.ylabel('Concentração (g/s)')\n",
    "plt.title('Resultado da Simulação')\n",
    "plt.grid(False)\n",
    "plt.legend()\n",
    "plt.show()\n",
    "\n",
    "print(\"Concentrações máximas de cada poluente:\")\n",
    "print(df_max_conc)"
   ]
  },
  {
   "cell_type": "markdown",
   "id": "0460f0a5-ff24-454c-8021-468f4136f02f",
   "metadata": {},
   "source": [
    "## Discussão dos Resultados"
   ]
  },
  {
   "cell_type": "markdown",
   "id": "6276701b-1ca2-4225-84e2-5c505cf464a9",
   "metadata": {},
   "source": [
    "##### Comparando o resultado expresso em gráfico e tabela das duas simulações, pode-se concluir que o nível de estabilidade da atmosfera afeta significativamente a dispersão dos poluentes no ar. Nota-se que no primeiro gráfico os poluentes atingem uma distância muito maior do que no segundo gráfico, por consequência as concentrações máximas são expressivamente maiores na segunda simulação. "
   ]
  },
  {
   "cell_type": "markdown",
   "id": "674c2267-70c5-4c46-888e-199d2920c00a",
   "metadata": {},
   "source": [
    "### Adequação à Resolução CONAMA 491"
   ]
  },
  {
   "cell_type": "markdown",
   "id": "131c8ea3-76b0-4e80-8932-9a81175ab773",
   "metadata": {},
   "source": [
    "###### NOX: limite = 40 micro g/m³"
   ]
  },
  {
   "cell_type": "code",
   "execution_count": 38,
   "id": "35276e02-11ae-4696-85b8-d864bc4a4ebb",
   "metadata": {},
   "outputs": [
    {
     "data": {
      "text/html": [
       "<div>\n",
       "<style scoped>\n",
       "    .dataframe tbody tr th:only-of-type {\n",
       "        vertical-align: middle;\n",
       "    }\n",
       "\n",
       "    .dataframe tbody tr th {\n",
       "        vertical-align: top;\n",
       "    }\n",
       "\n",
       "    .dataframe thead th {\n",
       "        text-align: right;\n",
       "    }\n",
       "</style>\n",
       "<table border=\"1\" class=\"dataframe\">\n",
       "  <thead>\n",
       "    <tr style=\"text-align: right;\">\n",
       "      <th></th>\n",
       "      <th>Cobertura de nuvens</th>\n",
       "      <th>Velocidade do vento (m/s)</th>\n",
       "    </tr>\n",
       "  </thead>\n",
       "  <tbody>\n",
       "    <tr>\n",
       "      <th>0</th>\n",
       "      <td>6/8</td>\n",
       "      <td>8.535338</td>\n",
       "    </tr>\n",
       "  </tbody>\n",
       "</table>\n",
       "</div>"
      ],
      "text/plain": [
       "  Cobertura de nuvens  Velocidade do vento (m/s)\n",
       "0                 6/8                   8.535338"
      ]
     },
     "execution_count": 38,
     "metadata": {},
     "output_type": "execute_result"
    }
   ],
   "source": [
    "df = pd.DataFrame(data=pasquill('noite'))\n",
    "df"
   ]
  },
  {
   "cell_type": "code",
   "execution_count": 47,
   "id": "c1a036fb-707e-4864-b540-bc0a2510f698",
   "metadata": {},
   "outputs": [
    {
     "data": {
      "image/png": "[encoded data removed]",
      "text/plain": [
       "<IPython.core.display.Image object>"
      ]
     },
     "metadata": {},
     "output_type": "display_data"
    }
   ],
   "source": [
    "display(Image(filename=\"C:\\\\UFSC\\\\ENS410064\\\\venv\\\\Scripts\\\\inputs\\\\images.png\"))"
   ]
  },
  {
   "cell_type": "code",
   "execution_count": 39,
   "id": "3bfd64b3-4a1e-4271-aa05-8f47a1326430",
   "metadata": {},
   "outputs": [
    {
     "data": {
      "text/html": [
       "<div>\n",
       "<style scoped>\n",
       "    .dataframe tbody tr th:only-of-type {\n",
       "        vertical-align: middle;\n",
       "    }\n",
       "\n",
       "    .dataframe tbody tr th {\n",
       "        vertical-align: top;\n",
       "    }\n",
       "\n",
       "    .dataframe thead th {\n",
       "        text-align: right;\n",
       "    }\n",
       "</style>\n",
       "<table border=\"1\" class=\"dataframe\">\n",
       "  <thead>\n",
       "    <tr style=\"text-align: right;\">\n",
       "      <th></th>\n",
       "      <th>Sigma Y</th>\n",
       "      <th>Sigma Z</th>\n",
       "    </tr>\n",
       "  </thead>\n",
       "  <tbody>\n",
       "    <tr>\n",
       "      <th>0</th>\n",
       "      <td>15.689291</td>\n",
       "      <td>13.79461</td>\n",
       "    </tr>\n",
       "  </tbody>\n",
       "</table>\n",
       "</div>"
      ],
      "text/plain": [
       "     Sigma Y   Sigma Z\n",
       "0  15.689291  13.79461"
      ]
     },
     "execution_count": 39,
     "metadata": {},
     "output_type": "execute_result"
    }
   ],
   "source": [
    "Classe = 'D'\n",
    "sigmas = pd.DataFrame(data=sigmasYZ('urbano', Classe, 100)) \n",
    "sigmas"
   ]
  },
  {
   "cell_type": "code",
   "execution_count": 40,
   "id": "65413e1b-fa02-4db0-8ccc-db5cbafa3631",
   "metadata": {},
   "outputs": [
    {
     "data": {
      "text/html": [
       "<div>\n",
       "<style scoped>\n",
       "    .dataframe tbody tr th:only-of-type {\n",
       "        vertical-align: middle;\n",
       "    }\n",
       "\n",
       "    .dataframe tbody tr th {\n",
       "        vertical-align: top;\n",
       "    }\n",
       "\n",
       "    .dataframe thead th {\n",
       "        text-align: right;\n",
       "    }\n",
       "</style>\n",
       "<table border=\"1\" class=\"dataframe\">\n",
       "  <thead>\n",
       "    <tr style=\"text-align: right;\">\n",
       "      <th></th>\n",
       "      <th>Velocidade do vento (m/s)</th>\n",
       "      <th>Velocidade dos gases (m/s)</th>\n",
       "      <th>Temperatura dos gases (K)</th>\n",
       "      <th>Diâmetro da chaminé (m)</th>\n",
       "    </tr>\n",
       "  </thead>\n",
       "  <tbody>\n",
       "    <tr>\n",
       "      <th>0</th>\n",
       "      <td>6.952684</td>\n",
       "      <td>4.21548</td>\n",
       "      <td>463.610355</td>\n",
       "      <td>1</td>\n",
       "    </tr>\n",
       "  </tbody>\n",
       "</table>\n",
       "</div>"
      ],
      "text/plain": [
       "   Velocidade do vento (m/s)  Velocidade dos gases (m/s)  \\\n",
       "0                   6.952684                     4.21548   \n",
       "\n",
       "   Temperatura dos gases (K)  Diâmetro da chaminé (m)  \n",
       "0                 463.610355                        1  "
      ]
     },
     "execution_count": 40,
     "metadata": {},
     "output_type": "execute_result"
    }
   ],
   "source": [
    "dados = pd.DataFrame(data=variaveis())   \n",
    "dados"
   ]
  },
  {
   "cell_type": "code",
   "execution_count": 41,
   "id": "6851be7c-ac11-4fd0-a063-5cea01b7cede",
   "metadata": {},
   "outputs": [
    {
     "data": {
      "text/plain": [
       "0.6714900631860804"
      ]
     },
     "execution_count": 41,
     "metadata": {},
     "output_type": "execute_result"
    }
   ],
   "source": [
    "dH1 = bryant(dados['Velocidade do vento (m/s)'][0],\n",
    "            dados['Velocidade dos gases (m/s)'][0],\n",
    "            dados['Temperatura dos gases (K)'][0],\n",
    "            dados['Diâmetro da chaminé (m)'][0])\n",
    "dH1"
   ]
  },
  {
   "cell_type": "code",
   "execution_count": 42,
   "id": "be1ae329-24c6-4544-b38d-cec515e6b19d",
   "metadata": {},
   "outputs": [
    {
     "data": {
      "text/plain": [
       "1.2668042381703033"
      ]
     },
     "execution_count": 42,
     "metadata": {},
     "output_type": "execute_result"
    }
   ],
   "source": [
    "dH2 = holland(dados['Velocidade do vento (m/s)'][0],\n",
    "              dados['Velocidade dos gases (m/s)'][0],\n",
    "              dados['Temperatura dos gases (K)'][0],\n",
    "              dados['Diâmetro da chaminé (m)'][0], \n",
    "              Classe)\n",
    "dH2"
   ]
  },
  {
   "cell_type": "code",
   "execution_count": 43,
   "id": "34b8da31-5189-4552-b832-55ac52c43578",
   "metadata": {},
   "outputs": [
    {
     "data": {
      "text/plain": [
       "29.47942364846178"
      ]
     },
     "execution_count": 43,
     "metadata": {},
     "output_type": "execute_result"
    }
   ],
   "source": [
    "HG = 30.0\n",
    "HEF = Hef(HG, \n",
    "      dH2, \n",
    "      dados['Velocidade dos gases (m/s)'][0], \n",
    "      dados['Velocidade do vento (m/s)'][0], \n",
    "      dados['Diâmetro da chaminé (m)'][0])\n",
    "HEF"
   ]
  },
  {
   "cell_type": "code",
   "execution_count": 44,
   "id": "07496eae-ad58-4231-96cf-34b63fb11853",
   "metadata": {},
   "outputs": [
    {
     "data": {
      "text/plain": [
       "30.276707598595703"
      ]
     },
     "execution_count": 44,
     "metadata": {},
     "output_type": "execute_result"
    }
   ],
   "source": [
    "QS = 1.393929 # media NOX (anual) - (g/s)\n",
    "Y = 1\n",
    "Z = 1\n",
    "Conc = modeloGaussiano(QS,\n",
    "                       sigmas['Sigma Y'][0],\n",
    "                       sigmas['Sigma Z'][0],\n",
    "                       dados['Velocidade do vento (m/s)'][0],\n",
    "                       Y,\n",
    "                       Z,\n",
    "                       HEF) \n",
    "Conc # micro g/m3"
   ]
  },
  {
   "cell_type": "markdown",
   "id": "0081d226-f212-4f99-baec-9c7b2f5cc54b",
   "metadata": {},
   "source": [
    "##### Foram testadas diferentes classes, tanto de dia quanto à noite, e a altura ideal de chaminé é de 30m. Para adequação das emissões de material particulado, foi proposta a instalação de filtros de manga nas chaminés, pois estes diminuem de 95 a 99% das emissões. (As simulações foram feitas considerando que 5% do que é emitido chega à atmosfera)."
   ]
  }
 ],
 "metadata": {
  "kernelspec": {
   "display_name": "Python 3 (ipykernel)",
   "language": "python",
   "name": "python3"
  },
  "language_info": {
   "codemirror_mode": {
    "name": "ipython",
    "version": 3
   },
   "file_extension": ".py",
   "mimetype": "text/x-python",
   "name": "python",
   "nbconvert_exporter": "python",
   "pygments_lexer": "ipython3",
   "version": "3.11.8"
  }
 },
 "nbformat": 4,
 "nbformat_minor": 5
}
